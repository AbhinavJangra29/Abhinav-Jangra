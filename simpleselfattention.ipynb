{
  "nbformat": 4,
  "nbformat_minor": 0,
  "metadata": {
    "colab": {
      "provenance": [],
      "authorship_tag": "ABX9TyO87uC+eR3Zsnv6XE2+DbHz",
      "include_colab_link": true
    },
    "kernelspec": {
      "name": "python3",
      "display_name": "Python 3"
    },
    "language_info": {
      "name": "python"
    }
  },
  "cells": [
    {
      "cell_type": "markdown",
      "metadata": {
        "id": "view-in-github",
        "colab_type": "text"
      },
      "source": [
        "<a href=\"https://colab.research.google.com/github/AbhinavJangra29/Abhinav-Jangra/blob/main/simpleselfattention.ipynb\" target=\"_parent\"><img src=\"https://colab.research.google.com/assets/colab-badge.svg\" alt=\"Open In Colab\"/></a>"
      ]
    },
    {
      "cell_type": "markdown",
      "source": [
        "step 1: take a input sentence, tokenize it, get its word vectors of 1x3 for simplicity"
      ],
      "metadata": {
        "id": "ND7-hXNjCVcl"
      }
    },
    {
      "cell_type": "code",
      "execution_count": 1,
      "metadata": {
        "colab": {
          "base_uri": "https://localhost:8080/"
        },
        "id": "tJkTeK6WCOy4",
        "outputId": "0ac22615-cd99-4639-a783-5be747c349e8"
      },
      "outputs": [
        {
          "output_type": "stream",
          "name": "stdout",
          "text": [
            "Requirement already satisfied: nltk in /usr/local/lib/python3.10/dist-packages (3.8.1)\n",
            "Requirement already satisfied: click in /usr/local/lib/python3.10/dist-packages (from nltk) (8.1.7)\n",
            "Requirement already satisfied: joblib in /usr/local/lib/python3.10/dist-packages (from nltk) (1.4.2)\n",
            "Requirement already satisfied: regex>=2021.8.3 in /usr/local/lib/python3.10/dist-packages (from nltk) (2023.12.25)\n",
            "Requirement already satisfied: tqdm in /usr/local/lib/python3.10/dist-packages (from nltk) (4.66.4)\n"
          ]
        }
      ],
      "source": [
        "! pip install nltk"
      ]
    },
    {
      "cell_type": "code",
      "source": [
        "import nltk\n",
        "nltk.download('stopwords')\n"
      ],
      "metadata": {
        "collapsed": true,
        "colab": {
          "base_uri": "https://localhost:8080/"
        },
        "id": "kAuTv5InGGda",
        "outputId": "44441bf7-b837-48bb-b192-a3ebd0be2ec1"
      },
      "execution_count": 8,
      "outputs": [
        {
          "output_type": "stream",
          "name": "stderr",
          "text": [
            "[nltk_data] Downloading package stopwords to /root/nltk_data...\n",
            "[nltk_data]   Unzipping corpora/stopwords.zip.\n"
          ]
        },
        {
          "output_type": "execute_result",
          "data": {
            "text/plain": [
              "True"
            ]
          },
          "metadata": {},
          "execution_count": 8
        }
      ]
    },
    {
      "cell_type": "code",
      "source": [
        "nltk.download('punkt')"
      ],
      "metadata": {
        "colab": {
          "base_uri": "https://localhost:8080/"
        },
        "id": "ZeKjt7pdHE_i",
        "outputId": "6c082766-c377-4ed8-bd31-cf269e076640"
      },
      "execution_count": 11,
      "outputs": [
        {
          "output_type": "stream",
          "name": "stderr",
          "text": [
            "[nltk_data] Downloading package punkt to /root/nltk_data...\n",
            "[nltk_data]   Unzipping tokenizers/punkt.zip.\n"
          ]
        },
        {
          "output_type": "execute_result",
          "data": {
            "text/plain": [
              "True"
            ]
          },
          "metadata": {},
          "execution_count": 11
        }
      ]
    },
    {
      "cell_type": "code",
      "source": [
        "\n",
        "from nltk import word_tokenize\n",
        "from nltk.corpus import stopwords\n",
        "import string\n",
        "\n",
        "\n",
        "input = \"roxy is such a good girl\"\n",
        "stop = set(stopwords.words('english') + list(string.punctuation))\n",
        "\n",
        "\n",
        "tokens=[i for i in word_tokenize(input.lower()) if i not in stop]\n",
        "print(tokens)"
      ],
      "metadata": {
        "colab": {
          "base_uri": "https://localhost:8080/"
        },
        "id": "NjYcRDJMC45d",
        "outputId": "1ceb97e5-c235-430e-a426-626a7702a7ff"
      },
      "execution_count": 13,
      "outputs": [
        {
          "output_type": "stream",
          "name": "stdout",
          "text": [
            "['roxy', 'good', 'girl']\n"
          ]
        }
      ]
    },
    {
      "cell_type": "markdown",
      "source": [
        "get  word vectors"
      ],
      "metadata": {
        "id": "UR3nCA2_Hex4"
      }
    },
    {
      "cell_type": "code",
      "source": [
        "#lets keep it a random 1x3 tensor for each word\n",
        "random_seed=69\n",
        "import numpy as np\n",
        "\n",
        "def assign_random_vector(tokens):\n",
        "    token_vectors = {}\n",
        "    for token in tokens:\n",
        "        random_vector = np.random.rand(1, 3)  # Generate a random 1x3 numpy array\n",
        "        token_vectors[token] = random_vector\n",
        "    return token_vectors"
      ],
      "metadata": {
        "id": "GWR2afa2FAxD"
      },
      "execution_count": 21,
      "outputs": []
    },
    {
      "cell_type": "code",
      "source": [
        "token_vectors=assign_random_vector(tokens)\n",
        "print(token_vectors)"
      ],
      "metadata": {
        "colab": {
          "base_uri": "https://localhost:8080/"
        },
        "id": "7OTZhjQeIZjq",
        "outputId": "e04d08d8-39d8-40d8-a9b9-d2b31284cc6c"
      },
      "execution_count": 22,
      "outputs": [
        {
          "output_type": "stream",
          "name": "stdout",
          "text": [
            "{'roxy': array([[0.15503891, 0.8962459 , 0.10829732]]), 'good': array([[0.95598712, 0.08047887, 0.76275051]]), 'girl': array([[0.63581577, 0.28139331, 0.83982567]])}\n"
          ]
        }
      ]
    },
    {
      "cell_type": "markdown",
      "source": [
        "stack all the vectors onto one another"
      ],
      "metadata": {
        "id": "-ktCXO2nImFr"
      }
    },
    {
      "cell_type": "code",
      "source": [
        "stacked_matrix = np.vstack([vector for vector in token_vectors.values()])"
      ],
      "metadata": {
        "id": "zm1BzYsjIlaB"
      },
      "execution_count": 23,
      "outputs": []
    },
    {
      "cell_type": "code",
      "source": [
        "print(stacked_matrix)"
      ],
      "metadata": {
        "colab": {
          "base_uri": "https://localhost:8080/"
        },
        "id": "X0Y4ftUcIhSD",
        "outputId": "91949a9a-f25c-4929-feb0-0e3137c39010"
      },
      "execution_count": 24,
      "outputs": [
        {
          "output_type": "stream",
          "name": "stdout",
          "text": [
            "[[0.15503891 0.8962459  0.10829732]\n",
            " [0.95598712 0.08047887 0.76275051]\n",
            " [0.63581577 0.28139331 0.83982567]]\n"
          ]
        }
      ]
    },
    {
      "cell_type": "markdown",
      "source": [
        "each word is a node in fully connected directed graph- andrej karpathy"
      ],
      "metadata": {
        "id": "d7nvFLYNJlJr"
      }
    },
    {
      "cell_type": "markdown",
      "source": [
        "now for the stacked matrix (which represents all words in our vocab) we calculate q,k,v for each word(node in the graph)"
      ],
      "metadata": {
        "id": "1GPoh4DgJvTW"
      }
    },
    {
      "cell_type": "code",
      "source": [
        "Wq=np.random.rand(3,3)\n",
        "Wk=np.random.rand(3,3)\n",
        "Wv=np.random.rand(3,3)"
      ],
      "metadata": {
        "id": "b1wGMoH1JkXr"
      },
      "execution_count": 27,
      "outputs": []
    },
    {
      "cell_type": "code",
      "source": [
        "print(Wq,Wk,Wv)"
      ],
      "metadata": {
        "colab": {
          "base_uri": "https://localhost:8080/"
        },
        "id": "_6J-Ux4fJYv3",
        "outputId": "6e1a689d-5b29-4fc1-cf27-63eae7f6f679"
      },
      "execution_count": 28,
      "outputs": [
        {
          "output_type": "stream",
          "name": "stdout",
          "text": [
            "[[0.19039905 0.62567403 0.46446858]\n",
            " [0.86504734 0.19146158 0.50501238]\n",
            " [0.96436436 0.88123125 0.15093924]] [[0.17087188 0.41273722 0.48800979]\n",
            " [0.89169211 0.32384446 0.53377986]\n",
            " [0.65850978 0.30317897 0.87763473]] [[0.97369459 0.95664173 0.41769685]\n",
            " [0.69069799 0.61660912 0.95975347]\n",
            " [0.38921426 0.67872573 0.05723944]]\n"
          ]
        }
      ]
    },
    {
      "cell_type": "code",
      "source": [
        "def multiply_with_qkv(token_vectors, Wq, Wk, Wv):\n",
        "    result_q = np.dot(token_vectors, q)\n",
        "    result_k = np.dot(token_vectors, k)\n",
        "    result_v = np.dot(token_vectors, v)\n",
        "    return result_q, result_k, result_v"
      ],
      "metadata": {
        "id": "seGbgZvZKat1"
      },
      "execution_count": 29,
      "outputs": []
    },
    {
      "cell_type": "code",
      "source": [
        "q,k,v=multiply_with_qkv(stacked_matrix,Wq,Wk,Wv)\n",
        "print(q)"
      ],
      "metadata": {
        "colab": {
          "base_uri": "https://localhost:8080/"
        },
        "id": "azR_WF16LIlC",
        "outputId": "c923a184-acf9-4dff-c78c-1f5cc3cde0f9"
      },
      "execution_count": 33,
      "outputs": [
        {
          "output_type": "stream",
          "name": "stdout",
          "text": [
            "[[0.74498071 0.96650935 0.8392654 ]\n",
            " [1.53667848 1.41576773 1.33844951]\n",
            " [1.40290551 1.35613324 1.21136321]]\n"
          ]
        }
      ]
    },
    {
      "cell_type": "code",
      "source": [
        "print(k)"
      ],
      "metadata": {
        "colab": {
          "base_uri": "https://localhost:8080/"
        },
        "id": "YnTj0t56LX4u",
        "outputId": "c8f51a94-69be-4aa3-d85f-ea07c4571a7f"
      },
      "execution_count": 34,
      "outputs": [
        {
          "output_type": "stream",
          "name": "stdout",
          "text": [
            "[[0.72370998 0.52192564 0.386176  ]\n",
            " [1.35861945 0.61529463 0.84605442]\n",
            " [1.19880291 0.60564119 0.95776783]]\n"
          ]
        }
      ]
    },
    {
      "cell_type": "code",
      "source": [
        "print(v)"
      ],
      "metadata": {
        "colab": {
          "base_uri": "https://localhost:8080/"
        },
        "id": "tn8iT_9HLvUy",
        "outputId": "7b829a11-2b8b-4758-abc0-c7ac485e6a4d"
      },
      "execution_count": 35,
      "outputs": [
        {
          "output_type": "stream",
          "name": "stdout",
          "text": [
            "[[0.93083346 0.50651141 0.71733392]\n",
            " [0.71230424 1.07280347 1.34425902]\n",
            " [0.89388417 0.92436777 1.22134143]]\n"
          ]
        }
      ]
    },
    {
      "cell_type": "markdown",
      "source": [
        "lets calculate the attention score, by having q,k,v matrices we can calc the attention score at a time for the whole vocab thats crazzy"
      ],
      "metadata": {
        "id": "rcIpVvtoMEmq"
      }
    },
    {
      "cell_type": "code",
      "source": [
        "kt=k.transpose()"
      ],
      "metadata": {
        "id": "WBTDACGELv_1"
      },
      "execution_count": 40,
      "outputs": []
    },
    {
      "cell_type": "code",
      "source": [
        "print(kt)"
      ],
      "metadata": {
        "colab": {
          "base_uri": "https://localhost:8080/"
        },
        "id": "3CygTNg-MbYu",
        "outputId": "9301f009-f0ed-45bf-9dde-97e9c7b32ba5"
      },
      "execution_count": 41,
      "outputs": [
        {
          "output_type": "stream",
          "name": "stdout",
          "text": [
            "[[0.72370998 1.35861945 1.19880291]\n",
            " [0.52192564 0.61529463 0.60564119]\n",
            " [0.386176   0.84605442 0.95776783]]\n"
          ]
        }
      ]
    },
    {
      "cell_type": "markdown",
      "source": [
        "intrestingness as karpathy calls it\n"
      ],
      "metadata": {
        "id": "h1HBvjTLMrrE"
      }
    },
    {
      "cell_type": "code",
      "source": [
        "intrestingness=np.dot(q,kt)\n",
        "print(intrestingness)"
      ],
      "metadata": {
        "colab": {
          "base_uri": "https://localhost:8080/"
        },
        "id": "axgOrhyQMc57",
        "outputId": "4f0c05a3-c528-4f74-b5c4-c786636c10cc"
      },
      "execution_count": 43,
      "outputs": [
        {
          "output_type": "stream",
          "name": "stdout",
          "text": [
            "[[1.36770014 2.3168975  2.28226432]\n",
            " [2.36791211 4.09127669 3.98154578]\n",
            " [2.19089683 3.76531541 3.66334207]]\n"
          ]
        }
      ]
    },
    {
      "cell_type": "markdown",
      "source": [
        "lets scale down the interesting so that for a large graph it doesnt blasts"
      ],
      "metadata": {
        "id": "IULD-8ScM_Ea"
      }
    },
    {
      "cell_type": "code",
      "source": [
        "scaled_interest=intrestingness/3\n",
        "print(scaled_interest)"
      ],
      "metadata": {
        "colab": {
          "base_uri": "https://localhost:8080/"
        },
        "id": "gZcSQ3JSM6Z0",
        "outputId": "7d3a6b77-58ee-4c24-ebf7-11f4855bbcfb"
      },
      "execution_count": 46,
      "outputs": [
        {
          "output_type": "stream",
          "name": "stdout",
          "text": [
            "[[0.45590005 0.77229917 0.76075477]\n",
            " [0.78930404 1.3637589  1.32718193]\n",
            " [0.73029894 1.25510514 1.22111402]]\n"
          ]
        }
      ]
    },
    {
      "cell_type": "markdown",
      "source": [
        "lets scale it more using softmax and also to dive into probablity domain"
      ],
      "metadata": {
        "id": "ig4oCgzAODQM"
      }
    },
    {
      "cell_type": "code",
      "source": [
        "def softmax(x):\n",
        "    \"\"\"Compute softmax values for each sets of scores in x.\"\"\"\n",
        "    e_x = np.exp(x - np.max(x))\n",
        "    return e_x / e_x.sum()\n",
        "\n",
        "softmaxed_intrestingness=softmax(scaled_interest)"
      ],
      "metadata": {
        "id": "PeUluZ-eNY8x"
      },
      "execution_count": 47,
      "outputs": []
    },
    {
      "cell_type": "code",
      "source": [
        "print(softmaxed_intrestingness)"
      ],
      "metadata": {
        "colab": {
          "base_uri": "https://localhost:8080/"
        },
        "id": "aplz-QK8OqIu",
        "outputId": "596c3827-eb65-46c5-f6da-9ed3ee504275"
      },
      "execution_count": 48,
      "outputs": [
        {
          "output_type": "stream",
          "name": "stdout",
          "text": [
            "[[0.0637663  0.0874987  0.08649439]\n",
            " [0.08899933 0.15807723 0.15239971]\n",
            " [0.08389984 0.14180175 0.13706275]]\n"
          ]
        }
      ]
    },
    {
      "cell_type": "markdown",
      "source": [
        "we have found the probable interestingness of each node with all other nodes, now lets find out how much each node pays attention to each other node by multiplying v, which in my analogy means the willingness of each node to offer something(more like the weight of the edge between nodes)"
      ],
      "metadata": {
        "id": "kLoTBzI7O0xi"
      }
    },
    {
      "cell_type": "code",
      "source": [
        "attention_weights=np.dot(softmaxed_intrestingness,v)"
      ],
      "metadata": {
        "id": "zGO5DcH9Os9a"
      },
      "execution_count": 49,
      "outputs": []
    },
    {
      "cell_type": "code",
      "source": [
        "print(attention_weights)"
      ],
      "metadata": {
        "colab": {
          "base_uri": "https://localhost:8080/"
        },
        "id": "97DIb4B8PmID",
        "outputId": "14ebc8b2-6e75-4229-ed0c-aca90355d3b9"
      },
      "execution_count": 50,
      "outputs": [
        {
          "output_type": "stream",
          "name": "stdout",
          "text": [
            "[[0.19899747 0.2061199  0.26900184]\n",
            " [0.33167032 0.35553835 0.46247106]\n",
            " [0.30162099 0.32131802 0.41820289]]\n"
          ]
        }
      ]
    },
    {
      "cell_type": "code",
      "source": [
        "import numpy as np\n",
        "import matplotlib.pyplot as plt\n",
        "\n",
        "\n",
        "# Define row and column labels\n",
        "row_labels = ['roxy', 'good', 'dog']\n",
        "column_labels = ['roxy', 'good', 'dog']\n",
        "\n",
        "# Plot heatmap\n",
        "plt.figure(figsize=(8, 6))\n",
        "plt.imshow(attention_weights, cmap='viridis', interpolation='nearest')\n",
        "\n",
        "# Add color bar\n",
        "plt.colorbar()\n",
        "\n",
        "# Add labels\n",
        "for i in range(len(row_labels)):\n",
        "    for j in range(len(column_labels)):\n",
        "        plt.text(j, i, \"{:.2f}\".format(attention_weights[i, j]), ha='center', va='center', color='white')\n",
        "\n",
        "plt.xticks(np.arange(len(column_labels)), column_labels)\n",
        "plt.yticks(np.arange(len(row_labels)), row_labels)\n",
        "\n",
        "plt.xlabel('Columns')\n",
        "plt.ylabel('Rows')\n",
        "plt.title('Softmax Interest Matrix Heatmap')\n",
        "\n",
        "plt.show()\n"
      ],
      "metadata": {
        "colab": {
          "base_uri": "https://localhost:8080/",
          "height": 564
        },
        "id": "iByJDdhePoQp",
        "outputId": "3030ca83-e665-413c-8856-702a535f7854"
      },
      "execution_count": 51,
      "outputs": [
        {
          "output_type": "display_data",
          "data": {
            "text/plain": [
              "<Figure size 800x600 with 2 Axes>"
            ],
            "image/png": "[encoded data removed]"
          },
          "metadata": {}
        }
      ]
    },
    {
      "cell_type": "markdown",
      "source": [
        "our aim is to optimise this heat map to the best we could by backpropogating and changing Wq,Wk,Wv"
      ],
      "metadata": {
        "id": "crxqnwneQJ6d"
      }
    },
    {
      "cell_type": "markdown",
      "source": [
        "multihead attention simply means instead of having single triple of Wq,Wk,Wv you have a loads and you aggregate all of the attention map to a single one to calculate attention weights"
      ],
      "metadata": {
        "id": "AtyKOg9EQ9NM"
      }
    },
    {
      "cell_type": "code",
      "source": [
        "k"
      ],
      "metadata": {
        "colab": {
          "base_uri": "https://localhost:8080/"
        },
        "id": "FJiIb8StQ8g-",
        "outputId": "e5e8443c-68b4-4e61-d506-e14be0b4f8c0"
      },
      "execution_count": 52,
      "outputs": [
        {
          "output_type": "execute_result",
          "data": {
            "text/plain": [
              "array([[0.72370998, 0.52192564, 0.386176  ],\n",
              "       [1.35861945, 0.61529463, 0.84605442],\n",
              "       [1.19880291, 0.60564119, 0.95776783]])"
            ]
          },
          "metadata": {},
          "execution_count": 52
        }
      ]
    },
    {
      "cell_type": "code",
      "source": [],
      "metadata": {
        "id": "LUH9sFrAP_0J"
      },
      "execution_count": null,
      "outputs": []
    }
  ]
}